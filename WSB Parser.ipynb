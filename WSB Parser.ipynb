{
 "cells": [
  {
   "cell_type": "code",
   "execution_count": 2,
   "metadata": {
    "state": "normal"
   },
   "outputs": [],
   "source": [
    "import pandas as pd\n",
    "import numpy as np"
   ]
  },
  {
   "cell_type": "code",
   "execution_count": 6,
   "metadata": {
    "state": "normal"
   },
   "outputs": [
    {
     "data": {
      "text/html": [
       "<div>\n",
       "<style scoped>\n",
       "    .dataframe tbody tr th:only-of-type {\n",
       "        vertical-align: middle;\n",
       "    }\n",
       "\n",
       "    .dataframe tbody tr th {\n",
       "        vertical-align: top;\n",
       "    }\n",
       "\n",
       "    .dataframe thead th {\n",
       "        text-align: right;\n",
       "    }\n",
       "</style>\n",
       "<table border=\"1\" class=\"dataframe\">\n",
       "  <thead>\n",
       "    <tr style=\"text-align: right;\">\n",
       "      <th></th>\n",
       "      <th>comment_body</th>\n",
       "    </tr>\n",
       "  </thead>\n",
       "  <tbody>\n",
       "    <tr>\n",
       "      <th>0</th>\n",
       "      <td>C'mon baby; Daddy needs a new pair of everything.</td>\n",
       "    </tr>\n",
       "    <tr>\n",
       "      <th>1</th>\n",
       "      <td>***G*** *etting*\\n\\n***M*** *illions*\\n\\n***E*...</td>\n",
       "    </tr>\n",
       "    <tr>\n",
       "      <th>2</th>\n",
       "      <td>IF GME OPENS GREEN I'M GONNA...try to be a pro...</td>\n",
       "    </tr>\n",
       "    <tr>\n",
       "      <th>3</th>\n",
       "      <td>For those that missed the news: \\n\\n&gt;GameStop ...</td>\n",
       "    </tr>\n",
       "    <tr>\n",
       "      <th>4</th>\n",
       "      <td>Cramer Stonks check-in (he said to buy these i...</td>\n",
       "    </tr>\n",
       "  </tbody>\n",
       "</table>\n",
       "</div>"
      ],
      "text/plain": [
       "                                        comment_body\n",
       "0  C'mon baby; Daddy needs a new pair of everything.\n",
       "1  ***G*** *etting*\\n\\n***M*** *illions*\\n\\n***E*...\n",
       "2  IF GME OPENS GREEN I'M GONNA...try to be a pro...\n",
       "3  For those that missed the news: \\n\\n>GameStop ...\n",
       "4  Cramer Stonks check-in (he said to buy these i..."
      ]
     },
     "execution_count": 6,
     "metadata": {},
     "output_type": "execute_result"
    }
   ],
   "source": [
    "gme = pd.read_csv('./wallstreetbets_comments_GMEsubreddit1.csv')\n",
    "del gme['Unnamed: 0']\n",
    "del gme['comment_id']\n",
    "del gme['comment_parent_id']\n",
    "del gme['comment_link_id']\n",
    "gme.head()"
   ]
  },
  {
   "cell_type": "code",
   "execution_count": 7,
   "metadata": {
    "state": "normal"
   },
   "outputs": [
    {
     "name": "stdout",
     "output_type": "stream",
     "text": [
      "Diamond: 3141\n",
      "Hold: 195\n",
      "Still: 125\n",
      "Tendy: 41\n",
      "Rocket: 3141\n",
      "Sell: 123\n",
      "Paper: 4\n",
      "Buy: 389\n"
     ]
    }
   ],
   "source": [
    "diamond = 0\n",
    "hold = 0\n",
    "still = 0\n",
    "tend = 0\n",
    "rocket = 0\n",
    "sell = 0\n",
    "paper = 0\n",
    "buy = 0\n",
    "for row in gme['comment_body']:\n",
    "    line = row.lower()\n",
    "    if '💎' or 'diamond' in line:\n",
    "        diamond += 1\n",
    "    if 'hold' in line:\n",
    "        hold += 1\n",
    "    if 'still' in line:\n",
    "        still += 1\n",
    "    if 'tend' in line:\n",
    "        tend += 1\n",
    "    if '🚀' or 'rocket' in line:\n",
    "        rocket += 1\n",
    "    if 'sell' in line:\n",
    "        sell += 1\n",
    "    if 'paper' in line:\n",
    "        paper += 1\n",
    "    if 'buy' in line:\n",
    "        buy += 1\n",
    "        \n",
    "print(f'Diamond: {diamond}')\n",
    "print(f'Hold: {hold}')\n",
    "print(f'Still: {still}')\n",
    "print(f'Tendy: {tend}')\n",
    "print(f'Rocket: {rocket}')\n",
    "print(f'Sell: {sell}')\n",
    "print(f'Paper: {paper}')\n",
    "print(f'Buy: {buy}')"
   ]
  },
  {
   "cell_type": "code",
   "execution_count": null,
   "metadata": {
    "state": "normal"
   },
   "outputs": [],
   "source": []
  }
 ],
 "metadata": {
  "kernelspec": {
   "display_name": "Python 3",
   "language": "python",
   "name": "python3"
  },
  "language_info": {
   "codemirror_mode": {
    "name": "ipython",
    "version": 3
   },
   "file_extension": ".py",
   "mimetype": "text/x-python",
   "name": "python",
   "nbconvert_exporter": "python",
   "pygments_lexer": "ipython3",
   "version": "3.7.3"
  },
  "varInspector": {
   "cols": {
    "lenName": 16,
    "lenType": 16,
    "lenVar": 40
   },
   "kernels_config": {
    "python": {
     "delete_cmd_postfix": "",
     "delete_cmd_prefix": "del ",
     "library": "var_list.py",
     "varRefreshCmd": "print(var_dic_list())"
    },
    "r": {
     "delete_cmd_postfix": ") ",
     "delete_cmd_prefix": "rm(",
     "library": "var_list.r",
     "varRefreshCmd": "cat(var_dic_list()) "
    }
   },
   "types_to_exclude": [
    "module",
    "function",
    "builtin_function_or_method",
    "instance",
    "_Feature"
   ],
   "window_display": false
  }
 },
 "nbformat": 4,
 "nbformat_minor": 2
}
