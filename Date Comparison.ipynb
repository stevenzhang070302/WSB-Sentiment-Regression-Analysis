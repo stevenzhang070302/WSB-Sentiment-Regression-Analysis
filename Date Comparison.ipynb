{
 "cells": [
  {
   "cell_type": "code",
   "execution_count": 12,
   "metadata": {
    "state": "normal"
   },
   "outputs": [],
   "source": [
    "import pandas as pd\n",
    "import numpy as np\n",
    "from datetime import datetime"
   ]
  },
  {
   "cell_type": "code",
   "execution_count": 13,
   "metadata": {},
   "outputs": [
    {
     "data": {
      "text/html": [
       "<div>\n",
       "<style scoped>\n",
       "    .dataframe tbody tr th:only-of-type {\n",
       "        vertical-align: middle;\n",
       "    }\n",
       "\n",
       "    .dataframe tbody tr th {\n",
       "        vertical-align: top;\n",
       "    }\n",
       "\n",
       "    .dataframe thead th {\n",
       "        text-align: right;\n",
       "    }\n",
       "</style>\n",
       "<table border=\"1\" class=\"dataframe\">\n",
       "  <thead>\n",
       "    <tr style=\"text-align: right;\">\n",
       "      <th></th>\n",
       "      <th>Score</th>\n",
       "      <th>Publish Date</th>\n",
       "      <th>Total No. of Comments</th>\n",
       "    </tr>\n",
       "  </thead>\n",
       "  <tbody>\n",
       "    <tr>\n",
       "      <th>0</th>\n",
       "      <td>1</td>\n",
       "      <td>2021-01-01 00:05:22</td>\n",
       "      <td>13</td>\n",
       "    </tr>\n",
       "    <tr>\n",
       "      <th>1</th>\n",
       "      <td>1</td>\n",
       "      <td>2021-01-01 00:06:40</td>\n",
       "      <td>22</td>\n",
       "    </tr>\n",
       "    <tr>\n",
       "      <th>2</th>\n",
       "      <td>1</td>\n",
       "      <td>2021-01-01 01:02:31</td>\n",
       "      <td>12</td>\n",
       "    </tr>\n",
       "    <tr>\n",
       "      <th>3</th>\n",
       "      <td>1</td>\n",
       "      <td>2021-01-01 05:41:47</td>\n",
       "      <td>24</td>\n",
       "    </tr>\n",
       "    <tr>\n",
       "      <th>4</th>\n",
       "      <td>1</td>\n",
       "      <td>2021-01-01 07:49:12</td>\n",
       "      <td>0</td>\n",
       "    </tr>\n",
       "  </tbody>\n",
       "</table>\n",
       "</div>"
      ],
      "text/plain": [
       "   Score         Publish Date  Total No. of Comments\n",
       "0      1  2021-01-01 00:05:22                     13\n",
       "1      1  2021-01-01 00:06:40                     22\n",
       "2      1  2021-01-01 01:02:31                     12\n",
       "3      1  2021-01-01 05:41:47                     24\n",
       "4      1  2021-01-01 07:49:12                      0"
      ]
     },
     "execution_count": 13,
     "metadata": {},
     "output_type": "execute_result"
    }
   ],
   "source": [
    "wsb = pd.read_csv('jantofebScrape.csv')\n",
    "del wsb['Post ID']\n",
    "del wsb['Title']\n",
    "del wsb['Url']\n",
    "del wsb['Author']\n",
    "del wsb['Permalink']\n",
    "del wsb['Flair']\n",
    "wsb.head()"
   ]
  },
  {
   "cell_type": "code",
   "execution_count": 146,
   "metadata": {},
   "outputs": [],
   "source": [
    "prev = datetime.strptime('2020-01-01 00:05:21', '%Y-%m-%d %H:%M:%S').date()\n",
    "wsb_dates = []\n",
    "score_dict = {}\n",
    "comment_dict = {}\n",
    "wsb_dict = {}\n",
    "count = 0\n",
    "comments = 0\n",
    "score = 0\n",
    "for row in wsb['Publish Date']:\n",
    "    date_time_str = row\n",
    "    date_time_obj = datetime.strptime(date_time_str, '%Y-%m-%d %H:%M:%S').date()\n",
    "    if(prev < date_time_obj):\n",
    "        score = 0\n",
    "        comments = 0\n",
    "        wsb_dates.append(date_time_obj)\n",
    "        prev = date_time_obj\n",
    "    else:\n",
    "        score += wsb['Score'][count]\n",
    "        comments += wsb['Total No. of Comments'][count]\n",
    "        count += 1\n",
    "    wsb_dict[date_time_obj] = [score, comments]\n",
    "    score_dict[date_time_obj] = score\n",
    "    comment_dict[date_time_obj] = comments"
   ]
  },
  {
   "cell_type": "code",
   "execution_count": 151,
   "metadata": {},
   "outputs": [
    {
     "name": "stdout",
     "output_type": "stream",
     "text": [
      "2021-01-01  -  Score:  24  - # of Comments:  789\n",
      "2021-01-02  -  Score:  18  - # of Comments:  647\n",
      "2021-01-03  -  Score:  12  - # of Comments:  3\n",
      "2021-01-04  -  Score:  42  - # of Comments:  629\n",
      "2021-01-05  -  Score:  39  - # of Comments:  2156\n",
      "2021-01-06  -  Score:  57  - # of Comments:  285\n",
      "2021-01-07  -  Score:  61  - # of Comments:  97\n",
      "2021-01-08  -  Score:  88  - # of Comments:  1018\n",
      "2021-01-09  -  Score:  26  - # of Comments:  279\n",
      "2021-01-10  -  Score:  16  - # of Comments:  91\n",
      "2021-01-11  -  Score:  173  - # of Comments:  1401\n",
      "2021-01-12  -  Score:  112  - # of Comments:  1037\n",
      "2021-01-13  -  Score:  2994  - # of Comments:  8851\n",
      "2021-01-14  -  Score:  2195  - # of Comments:  9259\n",
      "2021-01-15  -  Score:  2571  - # of Comments:  10116\n",
      "2021-01-16  -  Score:  254  - # of Comments:  2918\n",
      "2021-01-17  -  Score:  125  - # of Comments:  4656\n",
      "2021-01-18  -  Score:  231  - # of Comments:  5664\n",
      "2021-01-19  -  Score:  2268  - # of Comments:  59832\n",
      "2021-01-20  -  Score:  1215  - # of Comments:  5287\n",
      "2021-01-21  -  Score:  847  - # of Comments:  6732\n",
      "2021-01-22  -  Score:  918  - # of Comments:  123309\n",
      "2021-01-23  -  Score:  460  - # of Comments:  10296\n",
      "2021-01-24  -  Score:  440  - # of Comments:  818\n",
      "2021-01-25  -  Score:  2090  - # of Comments:  1721\n",
      "2021-01-26  -  Score:  596  - # of Comments:  905\n",
      "2021-01-27  -  Score:  65210  - # of Comments:  126505\n",
      "2021-01-28  -  Score:  29424  - # of Comments:  270317\n",
      "2021-01-29  -  Score:  7195  - # of Comments:  148776\n",
      "2021-01-30  -  Score:  7177  - # of Comments:  48688\n",
      "2021-01-31  -  Score:  218555  - # of Comments:  74568\n"
     ]
    }
   ],
   "source": [
    "#for row in wsb_dict:\n",
    "    #print(row , \" - \", 'Score: ', wsb_dict[row][0], ' - # of Comments: ', wsb_dict[row][1])\n",
    "   \n",
    "#df = pd.DataFrame(wsb_dict.items(),columns = ['Dates','(Scores, Comments)'])\n",
    "#df.head()\n",
    "\n",
    "#df = df.append(wsb_dict, ignore_index=True)\n",
    "\n",
    "\n",
    "#print(score_dict.values())\n",
    "#print(comment_dict.values())\n",
    "#wsb_df = pd.DataFrame(score_dict,columns = ['Dates','Scores', 'Comments'])\n",
    "#wsb_df = wsb_df.append(list(score_dict.values()), ignore_index=True)\n",
    "#wsb_df = wsb_df.append(list(comment_dict.values()), ignore_index=True)\n",
    "\n",
    "#score_df = pd.DataFrame(score_dict)\n",
    "#comment_df = pd.DataFrame(comment_dict)\n",
    "#wsb_df = pd.DataFrame(list(score_dict.items()),columns = ['Date','Scores'])\n",
    "#wsb_df.head()\n",
    "\n",
    "#df = pd.DataFrame()\n",
    "#df = df.append(wsb_dict, ignore_index=True)\n",
    "#display(df)"
   ]
  },
  {
   "cell_type": "code",
   "execution_count": 155,
   "metadata": {
    "scrolled": true
   },
   "outputs": [
    {
     "name": "stdout",
     "output_type": "stream",
     "text": [
      "{'a': [1, 2, 3], 'b': [5, 6, 7]}\n"
     ]
    }
   ],
   "source": [
    "random_dict = {\"a\":[1, 2, 3], \"b\":[5, 6, 7]}\n",
    "df2 = pd.DataFrame({\"a\":[1, 2, 3], \"b\":[5, 6, 7]})\n",
    "print(random_dict)"
   ]
  },
  {
   "cell_type": "code",
   "execution_count": 153,
   "metadata": {},
   "outputs": [
    {
     "name": "stdout",
     "output_type": "stream",
     "text": [
      "{datetime.date(2021, 1, 1): [24, 789], datetime.date(2021, 1, 2): [18, 647], datetime.date(2021, 1, 3): [12, 3], datetime.date(2021, 1, 4): [42, 629], datetime.date(2021, 1, 5): [39, 2156], datetime.date(2021, 1, 6): [57, 285], datetime.date(2021, 1, 7): [61, 97], datetime.date(2021, 1, 8): [88, 1018], datetime.date(2021, 1, 9): [26, 279], datetime.date(2021, 1, 10): [16, 91], datetime.date(2021, 1, 11): [173, 1401], datetime.date(2021, 1, 12): [112, 1037], datetime.date(2021, 1, 13): [2994, 8851], datetime.date(2021, 1, 14): [2195, 9259], datetime.date(2021, 1, 15): [2571, 10116], datetime.date(2021, 1, 16): [254, 2918], datetime.date(2021, 1, 17): [125, 4656], datetime.date(2021, 1, 18): [231, 5664], datetime.date(2021, 1, 19): [2268, 59832], datetime.date(2021, 1, 20): [1215, 5287], datetime.date(2021, 1, 21): [847, 6732], datetime.date(2021, 1, 22): [918, 123309], datetime.date(2021, 1, 23): [460, 10296], datetime.date(2021, 1, 24): [440, 818], datetime.date(2021, 1, 25): [2090, 1721], datetime.date(2021, 1, 26): [596, 905], datetime.date(2021, 1, 27): [65210, 126505], datetime.date(2021, 1, 28): [29424, 270317], datetime.date(2021, 1, 29): [7195, 148776], datetime.date(2021, 1, 30): [7177, 48688], datetime.date(2021, 1, 31): [218555, 74568]}\n"
     ]
    }
   ],
   "source": [
    "print(wsb_dict)"
   ]
  },
  {
   "cell_type": "code",
   "execution_count": 150,
   "metadata": {},
   "outputs": [
    {
     "data": {
      "text/html": [
       "<div>\n",
       "<style scoped>\n",
       "    .dataframe tbody tr th:only-of-type {\n",
       "        vertical-align: middle;\n",
       "    }\n",
       "\n",
       "    .dataframe tbody tr th {\n",
       "        vertical-align: top;\n",
       "    }\n",
       "\n",
       "    .dataframe thead th {\n",
       "        text-align: right;\n",
       "    }\n",
       "</style>\n",
       "<table border=\"1\" class=\"dataframe\">\n",
       "  <thead>\n",
       "    <tr style=\"text-align: right;\">\n",
       "      <th></th>\n",
       "      <th>2021-01-01</th>\n",
       "      <th>2021-01-02</th>\n",
       "      <th>2021-01-03</th>\n",
       "      <th>2021-01-04</th>\n",
       "      <th>2021-01-05</th>\n",
       "      <th>2021-01-06</th>\n",
       "      <th>2021-01-07</th>\n",
       "      <th>2021-01-08</th>\n",
       "      <th>2021-01-09</th>\n",
       "      <th>2021-01-10</th>\n",
       "      <th>...</th>\n",
       "      <th>2021-01-22</th>\n",
       "      <th>2021-01-23</th>\n",
       "      <th>2021-01-24</th>\n",
       "      <th>2021-01-25</th>\n",
       "      <th>2021-01-26</th>\n",
       "      <th>2021-01-27</th>\n",
       "      <th>2021-01-28</th>\n",
       "      <th>2021-01-29</th>\n",
       "      <th>2021-01-30</th>\n",
       "      <th>2021-01-31</th>\n",
       "    </tr>\n",
       "  </thead>\n",
       "  <tbody>\n",
       "    <tr>\n",
       "      <th>0</th>\n",
       "      <td>24</td>\n",
       "      <td>18</td>\n",
       "      <td>12</td>\n",
       "      <td>42</td>\n",
       "      <td>39</td>\n",
       "      <td>57</td>\n",
       "      <td>61</td>\n",
       "      <td>88</td>\n",
       "      <td>26</td>\n",
       "      <td>16</td>\n",
       "      <td>...</td>\n",
       "      <td>918</td>\n",
       "      <td>460</td>\n",
       "      <td>440</td>\n",
       "      <td>2090</td>\n",
       "      <td>596</td>\n",
       "      <td>65210</td>\n",
       "      <td>29424</td>\n",
       "      <td>7195</td>\n",
       "      <td>7177</td>\n",
       "      <td>218555</td>\n",
       "    </tr>\n",
       "    <tr>\n",
       "      <th>1</th>\n",
       "      <td>789</td>\n",
       "      <td>647</td>\n",
       "      <td>3</td>\n",
       "      <td>629</td>\n",
       "      <td>2156</td>\n",
       "      <td>285</td>\n",
       "      <td>97</td>\n",
       "      <td>1018</td>\n",
       "      <td>279</td>\n",
       "      <td>91</td>\n",
       "      <td>...</td>\n",
       "      <td>123309</td>\n",
       "      <td>10296</td>\n",
       "      <td>818</td>\n",
       "      <td>1721</td>\n",
       "      <td>905</td>\n",
       "      <td>126505</td>\n",
       "      <td>270317</td>\n",
       "      <td>148776</td>\n",
       "      <td>48688</td>\n",
       "      <td>74568</td>\n",
       "    </tr>\n",
       "  </tbody>\n",
       "</table>\n",
       "<p>2 rows × 31 columns</p>\n",
       "</div>"
      ],
      "text/plain": [
       "   2021-01-01  2021-01-02  2021-01-03  2021-01-04  2021-01-05  2021-01-06  \\\n",
       "0          24          18          12          42          39          57   \n",
       "1         789         647           3         629        2156         285   \n",
       "\n",
       "   2021-01-07  2021-01-08  2021-01-09  2021-01-10  ...  2021-01-22  \\\n",
       "0          61          88          26          16  ...         918   \n",
       "1          97        1018         279          91  ...      123309   \n",
       "\n",
       "   2021-01-23  2021-01-24  2021-01-25  2021-01-26  2021-01-27  2021-01-28  \\\n",
       "0         460         440        2090         596       65210       29424   \n",
       "1       10296         818        1721         905      126505      270317   \n",
       "\n",
       "   2021-01-29  2021-01-30  2021-01-31  \n",
       "0        7195        7177      218555  \n",
       "1      148776       48688       74568  \n",
       "\n",
       "[2 rows x 31 columns]"
      ]
     },
     "execution_count": 150,
     "metadata": {},
     "output_type": "execute_result"
    }
   ],
   "source": [
    "pd.DataFrame.from_dict(wsb_dict)"
   ]
  },
  {
   "cell_type": "code",
   "execution_count": null,
   "metadata": {},
   "outputs": [],
   "source": []
  }
 ],
 "metadata": {
  "kernelspec": {
   "display_name": "Python 3",
   "language": "python",
   "name": "python3"
  },
  "language_info": {
   "codemirror_mode": {
    "name": "ipython",
    "version": 3
   },
   "file_extension": ".py",
   "mimetype": "text/x-python",
   "name": "python",
   "nbconvert_exporter": "python",
   "pygments_lexer": "ipython3",
   "version": "3.7.3"
  },
  "varInspector": {
   "cols": {
    "lenName": 16,
    "lenType": 16,
    "lenVar": 40
   },
   "kernels_config": {
    "python": {
     "delete_cmd_postfix": "",
     "delete_cmd_prefix": "del ",
     "library": "var_list.py",
     "varRefreshCmd": "print(var_dic_list())"
    },
    "r": {
     "delete_cmd_postfix": ") ",
     "delete_cmd_prefix": "rm(",
     "library": "var_list.r",
     "varRefreshCmd": "cat(var_dic_list()) "
    }
   },
   "types_to_exclude": [
    "module",
    "function",
    "builtin_function_or_method",
    "instance",
    "_Feature"
   ],
   "window_display": false
  }
 },
 "nbformat": 4,
 "nbformat_minor": 2
}
